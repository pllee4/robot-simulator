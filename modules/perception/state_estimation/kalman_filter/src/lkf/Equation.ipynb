{
 "cells": [
  {
   "cell_type": "markdown",
   "metadata": {},
   "source": []
  },
  {
   "cell_type": "markdown",
   "metadata": {},
   "source": []
  },
  {
   "cell_type": "markdown",
   "metadata": {},
   "source": [
    "# Linear Kalman Filter\n",
    "\n",
    "\n",
    "# 2D Tracking System Model\n"
   ]
  },
  {
   "cell_type": "markdown",
   "metadata": {},
   "source": [
    "## Process model\n",
    "\n",
    "### State Vector \n",
    "\n",
    "\\begin{equation*}\n",
    "x_k = \\begin{bmatrix} p_x \\\\ p_y \\\\ v_x \\\\ v_y \\end{bmatrix}\n",
    "\\end{equation*}\n",
    "\n",
    "### Input Vector\n",
    "\n",
    "\\begin{equation*}\n",
    "u_k = \\begin{bmatrix} a_x \\\\ a_y \\end{bmatrix}\n",
    "\\end{equation*}"
   ]
  },
  {
   "cell_type": "markdown",
   "metadata": {},
   "source": [
    "### Discrete Process Model\n",
    "\n",
    "\\begin{equation*}\n",
    "x_k = F_{x_{k-1}} + G_{u_{k-1}}\n",
    "\\end{equation*}\n",
    "\n",
    "\\begin{equation*}\n",
    "\\begin{bmatrix} p_x \\\\ p_y \\\\ v_x \\\\ v_y \\end{bmatrix} = \n",
    "\\begin{bmatrix} 1 & 0 & \\Delta t & 0 \\\\ 0 & 1 & 0 & \\Delta t \\\\ 0 & 0 & 1 & 0 \\\\ 0 & 0 & 0 & 1 \\end{bmatrix}\n",
    "\\begin{bmatrix} p_x \\\\ p_y \\\\ v_x \\\\ v_y \\end{bmatrix}_{k-1} +\n",
    "\\begin{bmatrix} \\frac {1}{2} \\Delta t^2 & 0 \\\\ 0 & \\frac {1}{2} \\Delta t^2 \\\\ \\Delta t & 0 \\\\ 0 & \\Delta t \\end{bmatrix}\n",
    "\\begin{bmatrix} a_x \\\\ a_y \\end{bmatrix}_{k-1}\n",
    "\\end{equation*}\n",
    "\n",
    "\\begin{equation*}\n",
    "F = \\begin{bmatrix} 1 & 0 & \\Delta t & 0 \\\\ 0 & 1 & 0 & \\Delta t \\\\ 0 & 0 & 1 & 0 \\\\ 0 & 0 & 0 & 1 \\end{bmatrix}\n",
    "\\end{equation*}\n",
    "\n",
    "\\begin{equation*}\n",
    "G = \\begin{bmatrix} \\frac {1}{2} \\Delta t^2 & 0 \\\\ 0 & \\frac {1}{2} \\Delta t^2 \\\\ \\Delta t & 0 \\\\ 0 & \\Delta t \\end{bmatrix}\n",
    "\\end{equation*}"
   ]
  },
  {
   "cell_type": "markdown",
   "metadata": {},
   "source": [
    "### Noise Vector\n",
    "\n",
    "* Assume noise vector is\n",
    "  \n",
    "\\begin{equation*}\n",
    "{w_k = \\begin{bmatrix} a_x \\\\ a_y \\end{bmatrix}}\n",
    "\\end{equation*}\n",
    "\n",
    "* Then\n",
    "\n",
    "\\begin{equation*}\n",
    "x_k = F_{x_{k-1}} + L_{w_{k-1}}\n",
    "\\end{equation*}\n",
    "\n",
    "\\begin{equation*}\n",
    "\\begin{bmatrix} p_x \\\\ p_y \\\\ v_x \\\\ v_y \\end{bmatrix}_k = \\begin{bmatrix} 1 & 0 & \\Delta t & 0 \\\\ 0 & 1 & 0 & \\Delta t \\\\ 0 & 0 & 1 & 0 \\\\ 0 & 0 & 0 & 1 \\end{bmatrix} \\begin{bmatrix} p_x \\\\ p_y \\\\ v_x \\\\ v_y \\end{bmatrix}_{k-1} + \\begin{bmatrix} \\frac {1}{2} \\Delta t^2 & 0 \\\\ 0 & \\frac {1}{2} \\Delta t^2 \\\\ \\Delta t & 0 \\\\ 0 & \\Delta t \\end{bmatrix} \\begin{bmatrix}\n",
    "a_x \\\\ a_y \\end{bmatrix}_{k-1}\n",
    "\\end{equation*}\n",
    "\n",
    "\\begin{equation*}\n",
    "F = \\begin{bmatrix} 1 & 0 & \\Delta t & 0 \\\\ 0 & 1 & 0 & \\Delta t \\\\ 0 & 0 & 1 & 0 \\\\ 0 & 0 & 0 & 1 \\end{bmatrix}\n",
    "\\end{equation*}\n",
    "\n",
    "\\begin{equation*}\n",
    "L = \\begin{bmatrix} \\frac {1}{2} \\Delta t^2 & 0 \\\\ 0 & \\frac {1}{2} \\Delta t^2 \\\\ \\Delta t & 0 \\\\ 0 & \\Delta t \\end{bmatrix}\n",
    "\\end{equation*}"
   ]
  },
  {
   "cell_type": "markdown",
   "metadata": {},
   "source": [
    "## Prediction step\n",
    "\n",
    "\\begin{equation*}\n",
    "\\hat{x}^-_k = F_{k-1}\\hat{x}^+_{k-1} + G_{{k-1}u_{k-1}}\n",
    "\\end{equation*}\n",
    "\n",
    "* For Covariance, \n",
    "  \n",
    "\\begin{equation*}\n",
    "P^+_0 = E[(x_{0} - \\hat{x}_+)(x_0 - \\hat{x}^+_0)^T]\n",
    "\\end{equation*}\n",
    "\n",
    "\\begin{equation*}\n",
    "P^-_1 = F_{0}P^{+}_{0}F^{T}_{0}\n",
    "\\end{equation*}\n",
    "\n",
    "\\begin{equation*}\n",
    "P^-_1 = F_{0}P^{+}_{0}F^{T}_{0} + L_{0}Q_{0}L^{T}_{0}\n",
    "\\end{equation*}\n",
    "\n",
    "* Assuming process noise is additive, so \n",
    "  \n",
    "\\begin{equation*}\n",
    "L_k = I\n",
    "\\end{equation*}\n",
    "\n",
    "\\begin{equation*}\n",
    "P^-_1 = F_{0}P^{+}_{0}F^{T}_{0} + Q_{0}\n",
    "\\end{equation*}\n",
    "\n",
    "\\begin{equation*}\n",
    "Q = \\begin{bmatrix} \\sigma_{a_z}^2 & 0 \\\\ 0 & \\sigma_{a_y}^2 \\end{bmatrix}\n",
    "\\end{equation*}"
   ]
  },
  {
   "cell_type": "markdown",
   "metadata": {},
   "source": []
  },
  {
   "cell_type": "markdown",
   "metadata": {},
   "source": [
    "## Update Step\n",
    "\n",
    "### Measurement Model\n",
    "\n",
    "\\begin{equation*}\n",
    "z_k = H_{k}x_{k} + M_{k}v_{k}\n",
    "\\end{equation*}\n",
    "\n",
    "* Example\n",
    "\n",
    "\\begin{equation*}\n",
    "\\begin{bmatrix} p_x \\\\ p_y \\end{bmatrix}_k = \\begin{bmatrix} 1 & 0 & 0 & 0 \\\\ 0 & 1 & 0 & 0 \\end{bmatrix} \\begin{bmatrix} p_x \\\\ p_y \\\\ v_x \\\\ v_y \\end{bmatrix}\n",
    "\\end{equation*}\n",
    "\n",
    "* Update state prediction ${x}^-_{k}$ to form updated state estimate $\\hat{x}^+_{k}$\n",
    "\n",
    "Innovation\n",
    "\\begin{equation*}\n",
    "\\hat{y}_{k} = z_k - H_{k}\\hat{x}^-_k\n",
    "\\end{equation*}\n",
    "\n",
    "Innovation Covariance\n",
    "\\begin{equation*}\n",
    "S_k = H_{k}P^-_{k}H^T_k + R_k\n",
    "\\end{equation*}\n",
    "\n",
    "Kalman Gain\n",
    "\\begin{equation*}\n",
    "K_k = P^-_{k}H^T_{k}S^{-1}_k\n",
    "\\end{equation*}\n",
    "\n",
    "State Estimate\n",
    "\\begin{equation*}\n",
    "\\hat{x}^+_k = \\hat{x}^-_k + K_k\\hat{y}_{k}\n",
    "\\end{equation*}\n",
    "\n",
    "Covariance Estimate\n",
    "\\begin{equation*}\n",
    "P^+_k = (I - K_kH_k)P^-_k\n",
    "\\end{equation*}"
   ]
  }
 ],
 "metadata": {
  "kernelspec": {
   "display_name": "Python 3",
   "language": "python",
   "name": "python3"
  },
  "language_info": {
   "codemirror_mode": {
    "name": "ipython",
    "version": 3
   },
   "file_extension": ".py",
   "mimetype": "text/x-python",
   "name": "python",
   "nbconvert_exporter": "python",
   "pygments_lexer": "ipython3",
   "version": "3.8.10"
  }
 },
 "nbformat": 4,
 "nbformat_minor": 0
}
