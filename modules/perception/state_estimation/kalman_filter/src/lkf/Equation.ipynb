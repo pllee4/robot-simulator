{
 "cells": [
  {
   "cell_type": "markdown",
   "metadata": {},
   "source": []
  },
  {
   "cell_type": "markdown",
   "metadata": {},
   "source": []
  },
  {
   "cell_type": "markdown",
   "metadata": {},
   "source": [
    "# Linear Kalman Filter\n",
    "\n",
    "\n",
    "# 2D Tracking System Model\n"
   ]
  },
  {
   "cell_type": "markdown",
   "metadata": {},
   "source": [
    "## Process model\n",
    "\n",
    "### State Vector \n",
    "\n",
    "\\begin{equation*}\n",
    "x_k = \\begin{bmatrix} p_x \\\\ p_y \\\\ v_x \\\\ v_y \\end{bmatrix}\n",
    "\\end{equation*}\n",
    "\n",
    "### Input Vector\n",
    "\n",
    "\\begin{equation*}\n",
    "u_k = \\begin{bmatrix} a_x \\\\ a_y \\end{bmatrix}\n",
    "\\end{equation*}"
   ]
  },
  {
   "cell_type": "markdown",
   "metadata": {},
   "source": [
    "### Discrete Process Model\n",
    "\n",
    "\\begin{equation*}\n",
    "x_k = F_{x_{k-1}} + G_{u_{k-1}}\n",
    "\\end{equation*}\n",
    "\n",
    "\\begin{equation*}\n",
    "\\begin{bmatrix} p_x \\\\ p_y \\\\ v_x \\\\ v_y \\end{bmatrix} = \n",
    "\\begin{bmatrix} 1 & 0 & \\Delta t & 0 \\\\ 0 & 1 & 0 & \\Delta t \\\\ 0 & 0 & 1 & 0 \\\\ 0 & 0 & 0 & 1 \\end{bmatrix}\n",
    "\\begin{bmatrix} p_x \\\\ p_y \\\\ v_x \\\\ v_y \\end{bmatrix}_{k-1} +\n",
    "\\begin{bmatrix} \\frac {1}{2} \\Delta t^2 & 0 \\\\ 0 & \\frac {1}{2} \\Delta t^2 \\\\ \\Delta t & 0 \\\\ 0 & \\Delta t \\end{bmatrix}\n",
    "\\begin{bmatrix} a_x \\\\ a_y \\end{bmatrix}_{k-1}\n",
    "\\end{equation*}\n",
    "\n",
    "\\begin{equation*}\n",
    "F = \\begin{bmatrix} 1 & 0 & \\Delta t & 0 \\\\ 0 & 1 & 0 & \\Delta t \\\\ 0 & 0 & 1 & 0 \\\\ 0 & 0 & 0 & 1 \\end{bmatrix}\n",
    "\\end{equation*}\n",
    "\n",
    "\\begin{equation*}\n",
    "G = \\begin{bmatrix} \\frac {1}{2} \\Delta t^2 & 0 \\\\ 0 & \\frac {1}{2} \\Delta t^2 \\\\ \\Delta t & 0 \\\\ 0 & \\Delta t \\end{bmatrix}\n",
    "\\end{equation*}"
   ]
  },
  {
   "cell_type": "markdown",
   "metadata": {},
   "source": [
    "### Noise Vector\n",
    "\n",
    "* Assume noise vector is\n",
    "  \n",
    "\\begin{equation*}\n",
    "{w_k = \\begin{bmatrix} a_x \\\\ a_y \\end{bmatrix}}\n",
    "\\end{equation*}\n",
    "\n",
    "* Then\n",
    "\n",
    "\\begin{equation*}\n",
    "x_k = F_{x_{k-1}} + L_{w_{k-1}}\n",
    "\\end{equation*}\n",
    "\n",
    "\\begin{equation*}\n",
    "\\begin{bmatrix} p_x \\\\ p_y \\\\ v_x \\\\ v_y \\end{bmatrix}_k = \\begin{bmatrix} 1 & 0 & \\Delta t & 0 \\\\ 0 & 1 & 0 & \\Delta t \\\\ 0 & 0 & 1 & 0 \\\\ 0 & 0 & 0 & 1 \\end{bmatrix} \\begin{bmatrix} p_x \\\\ p_y \\\\ v_x \\\\ v_y \\end{bmatrix}_{k-1} + \\begin{bmatrix} \\frac {1}{2} \\Delta t^2 & 0 \\\\ 0 & \\frac {1}{2} \\Delta t^2 \\\\ \\Delta t & 0 \\\\ 0 & \\Delta t \\end{bmatrix} \\begin{bmatrix}\n",
    "a_x \\\\ a_y \\end{bmatrix}_{k-1}\n",
    "\\end{equation*}\n",
    "\n",
    "\\begin{equation*}\n",
    "F = \\begin{bmatrix} 1 & 0 & \\Delta t & 0 \\\\ 0 & 1 & 0 & \\Delta t \\\\ 0 & 0 & 1 & 0 \\\\ 0 & 0 & 0 & 1 \\end{bmatrix}\n",
    "\\end{equation*}\n",
    "\n",
    "\\begin{equation*}\n",
    "L = \\begin{bmatrix} \\frac {1}{2} \\Delta t^2 & 0 \\\\ 0 & \\frac {1}{2} \\Delta t^2 \\\\ \\Delta t & 0 \\\\ 0 & \\Delta t \\end{bmatrix}\n",
    "\\end{equation*}"
   ]
  },
  {
   "cell_type": "markdown",
   "metadata": {},
   "source": [
    "## Prediction step\n",
    "\n",
    "\\begin{equation*}\n",
    "\\hat{x}^-_k = F_{k-1}\\hat{x}^+_{k-1} + G_{{k-1}u_{k-1}}\n",
    "\\end{equation*}\n",
    "\n",
    "* For Covariance, \n",
    "  \n",
    "\\begin{equation*}\n",
    "P^+_0 = E[(x_{0} - \\hat{x}_+)(x_0 - \\hat{x}^+_0)^T]\n",
    "\\end{equation*}\n",
    "\n",
    "\\begin{equation*}\n",
    "P^-_1 = F_{0}P^{+}_{0}F^{T}_{0}\n",
    "\\end{equation*}\n",
    "\n",
    "\\begin{equation*}\n",
    "P^-_1 = F_{0}P^{+}_{0}F^{T}_{0} + L_{0}Q_{0}L^{T}_{0}\n",
    "\\end{equation*}\n",
    "\n",
    "* Assuming process noise is additive, so \n",
    "  \n",
    "\\begin{equation*}\n",
    "L_k = I\n",
    "\\end{equation*}\n",
    "\n",
    "\\begin{equation*}\n",
    "P^-_1 = F_{0}P^{+}_{0}F^{T}_{0} + Q_{0}\n",
    "\\end{equation*}\n",
    "\n",
    "\\begin{equation*}\n",
    "Q = \\begin{bmatrix} \\sigma_{a_z}^2 & 0 \\\\ 0 & \\sigma_{a_y}^2 \\end{bmatrix}\n",
    "\\end{equation*}"
   ]
  },
  {
   "cell_type": "markdown",
   "metadata": {},
   "source": []
  }
 ],
 "metadata": {
  "kernelspec": {
   "display_name": "Python 3",
   "language": "python",
   "name": "python3"
  },
  "language_info": {
   "codemirror_mode": {
    "name": "ipython",
    "version": 3
   },
   "file_extension": ".py",
   "mimetype": "text/x-python",
   "name": "python",
   "nbconvert_exporter": "python",
   "pygments_lexer": "ipython3",
   "version": "3.8.10"
  }
 },
 "nbformat": 4,
 "nbformat_minor": 0
}
